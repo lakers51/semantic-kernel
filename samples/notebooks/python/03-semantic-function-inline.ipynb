{
 "cells": [
  {
   "attachments": {},
   "cell_type": "markdown",
   "id": "3c93ac5b",
   "metadata": {},
   "source": [
    "# Running Semantic Functions Inline"
   ]
  },
  {
   "attachments": {},
   "cell_type": "markdown",
   "id": "ebcabb91",
   "metadata": {},
   "source": []
  },
  {
   "attachments": {},
   "cell_type": "markdown",
   "id": "40201641",
   "metadata": {},
   "source": [
    "The [previous notebook](./02-running-prompts-from-file.ipynb)\n",
    "showed how to define a semantic function using a prompt template stored on a file.\n",
    "\n",
    "In this notebook, we'll show how to use the Semantic Kernel to define functions inline with your python code. This can be useful in a few scenarios:\n",
    "\n",
    "* Dynamically generating the prompt using complex rules at runtime\n",
    "* Writing prompts by editing Python code instead of TXT files.\n",
    "* Easily creating demos, like this document\n",
    "\n",
    "Prompt templates are defined using the SK template language, which allows to reference variables and functions. Read [this doc](https://aka.ms/sk/howto/configurefunction) to learn more about the design decisions for prompt templating. \n",
    "\n",
    "For now we'll use only the `{{$input}}` variable, and see more complex templates later.\n",
    "\n",
    "Almost all semantic function prompts have a reference to `{{$input}}`, which is the default way\n",
    "a user can import content from the context variables."
   ]
  },
  {
   "attachments": {},
   "cell_type": "markdown",
   "id": "d90b0c13",
   "metadata": {},
   "source": [
    "Prepare a semantic kernel instance first, loading also the AI service settings defined in the [Setup notebook](00-getting-started.ipynb):"
   ]
  },
  {
   "cell_type": "code",
   "execution_count": null,
   "id": "1da651d4",
   "metadata": {},
   "outputs": [],
   "source": [
    "!python -m pip install semantic-kernel==0.2.7.dev0"
   ]
  },
  {
   "cell_type": "code",
   "execution_count": 1,
   "id": "3712b7c3",
   "metadata": {},
   "outputs": [],
   "source": [
    "import semantic_kernel as sk\n",
    "from semantic_kernel.connectors.ai.open_ai import AzureTextCompletion, OpenAITextCompletion\n",
    "\n",
    "kernel = sk.Kernel()\n",
    "\n",
    "useAzureOpenAI = True\n",
    "\n",
    "# Configure AI service used by the kernel\n",
    "if useAzureOpenAI:\n",
    "    deployment, api_key, endpoint = sk.azure_openai_settings_from_dot_env()\n",
    "    kernel.add_text_completion_service(\"dv\", AzureTextCompletion(deployment, endpoint, api_key))\n",
    "else:\n",
    "    api_key, org_id = sk.openai_settings_from_dot_env()\n",
    "    kernel.add_text_completion_service(\"dv\", OpenAITextCompletion(\"text-davinci-003\", api_key, org_id))"
   ]
  },
  {
   "attachments": {},
   "cell_type": "markdown",
   "id": "589733c5",
   "metadata": {},
   "source": [
    "Let's use a prompt to create a semantic function used to summarize content, allowing for some creativity and a sufficient number of tokens.\n",
    "\n",
    "The function will take in input the text to summarize."
   ]
  },
  {
   "cell_type": "code",
   "execution_count": 2,
   "id": "ae29c207",
   "metadata": {},
   "outputs": [],
   "source": [
    "prompt = \"\"\"{{$input}}\n",
    "Summarize the content above.\n",
    "\"\"\"\n",
    "\n",
    "summarize = kernel.create_semantic_function(prompt, max_tokens=2000, temperature=0.2, top_p=0.5)"
   ]
  },
  {
   "attachments": {},
   "cell_type": "markdown",
   "id": "f26b90c4",
   "metadata": {},
   "source": [
    "Set up some content to summarize, here's an extract about Demo, an ancient Greek poet, taken from Wikipedia (https://en.wikipedia.org/wiki/Demo_(ancient_Greek_poet)."
   ]
  },
  {
   "cell_type": "code",
   "execution_count": 5,
   "id": "314557fb",
   "metadata": {},
   "outputs": [
    {
     "name": "stdout",
     "output_type": "stream",
     "text": [
      "1698\n"
     ]
    }
   ],
   "source": [
    "input_text = \"\"\"\n",
    "Demo (ancient Greek poet)\n",
    "From Wikipedia, the free encyclopedia\n",
    "Demo or Damo (Greek: Δεμώ, Δαμώ; fl. c. AD 200) was a Greek woman of the Roman period, known for a single epigram, engraved upon the Colossus of Memnon, which bears her name. She speaks of herself therein as a lyric poetess dedicated to the Muses, but nothing is known of her life.[1]\n",
    "Identity\n",
    "Demo was evidently Greek, as her name, a traditional epithet of Demeter, signifies. The name was relatively common in the Hellenistic world, in Egypt and elsewhere, and she cannot be further identified. The date of her visit to the Colossus of Memnon cannot be established with certainty, but internal evidence on the left leg suggests her poem was inscribed there at some point in or after AD 196.[2]\n",
    "Epigram\n",
    "There are a number of graffiti inscriptions on the Colossus of Memnon. Following three epigrams by Julia Balbilla, a fourth epigram, in elegiac couplets, entitled and presumably authored by \"Demo\" or \"Damo\" (the Greek inscription is difficult to read), is a dedication to the Muses.[2] The poem is traditionally published with the works of Balbilla, though the internal evidence suggests a different author.[1]\n",
    "In the poem, Demo explains that Memnon has shown her special respect. In return, Demo offers the gift for poetry, as a gift to the hero. At the end of this epigram, she addresses Memnon, highlighting his divine status by recalling his strength and holiness.[2]\n",
    "Demo, like Julia Balbilla, writes in the artificial and poetic Aeolic dialect. The language indicates she was knowledgeable in Homeric poetry—'bearing a pleasant gift', for example, alludes to the use of that phrase throughout the Iliad and Odyssey.[a][2] \n",
    "\"\"\"\n",
    "print(len(input_text))"
   ]
  },
  {
   "attachments": {},
   "cell_type": "markdown",
   "id": "bf0f2330",
   "metadata": {},
   "source": [
    "...and run the summary function:"
   ]
  },
  {
   "cell_type": "code",
   "execution_count": 4,
   "id": "7b0e3b0c",
   "metadata": {},
   "outputs": [
    {
     "name": "stdout",
     "output_type": "stream",
     "text": [
      "A: Demo was a Greek woman of the Roman period, known for a single epigram, engraved upon the Colossus of Memnon, which bears her name. She speaks of herself therein as a lyric poetess dedicated to the Muses, but nothing is known of her life. The poem is traditionally published with the works of Balbilla, though the internal evidence suggests a different author. In the poem, Demo explains that Memnon has shown her special respect. In return, Demo offers the gift for poetry, as a gift to the hero. At the end of this epigram, she addresses Memnon, highlighting his divine status by recalling his strength and holiness. Demo, like Julia Balbilla, writes in the artificial and poetic Aeolic dialect. The language indicates she was knowledgeable in Homeric poetry—'bearing a pleasant gift', for example, alludes to the use of that phrase throughout the Iliad and Odyssey. \n",
      "B: Demo was a Greek woman of the Roman period, known for a single epigram, engraved upon the Colossus of Memnon, which bears her name. She speaks of herself therein as a lyric poetess dedicated to the Muses, but nothing is known of her life. The poem is traditionally published with the works of Balbilla, though the internal evidence suggests a different author. In the poem, Demo explains that Memnon has shown her special respect. In return, Demo offers the gift for poetry, as a gift to the hero. At the end of this epigram, she addresses Memnon, highlighting his divine status by recalling his strength and holiness. Demo, like Julia Balbilla, writes in the artificial and poetic Aeolic dialect. The language indicates she was knowledgeable in Homeric poetry—'bearing a pleasant gift', for example, alludes to the use of that phrase throughout the Iliad and Odyssey. \n",
      "C: Demo was a Greek woman of the Roman period, known for a single epigram, engraved upon the Colossus of Memnon, which bears her name. She speaks of herself therein as a lyric poetess dedicated to the Muses, but nothing is known of her life. The poem is traditionally published with the works of Balbilla, though the internal evidence suggests a different author. In the poem, Demo explains that Memnon has shown her special respect. In return, Demo offers the gift for poetry, as a gift to the hero. At the end of this epigram, she addresses Memnon, highlighting his divine status by recalling his strength and holiness. Demo, like Julia Balbilla, writes in the artificial and poetic Aeolic dialect. The language indicates she was knowledgeable in Homeric poetry—'bearing a pleasant gift', for example, alludes to the use of that phrase throughout the Iliad and Odyssey. \n",
      "D: Demo was a Greek woman of the Roman period, known for a single epigram, engraved upon the Colossus of Memnon, which bears her name. She speaks of herself therein as a lyric poetess dedicated to the Muses, but nothing is known of her life. The poem is traditionally published with the works of Balbilla, though the internal evidence suggests a different author. In the poem, Demo explains that Memnon has shown her special respect. In return, Demo offers the gift for poetry, as a gift to the hero. At the end of this epigram, she addresses Memnon, highlighting his divine status by recalling his strength and holiness. Demo, like Julia Balbilla, writes in the artificial and poetic Aeolic dialect. The language indicates she was knowledgeable in Homeric poetry—'bearing a pleasant gift', for example, alludes to the use of that phrase throughout the Iliad and Odyssey. \n",
      "E: Demo was a Greek woman of the Roman period, known for a single epigram, engraved upon the Colossus of Memnon, which bears her name. She speaks of herself therein as a lyric poetess dedicated to the Muses, but nothing is known of her life. The poem is traditionally published with the works of Balbilla, though the internal evidence suggests a different author. In the poem, Demo explains that Memnon has shown her special respect. In return, Demo offers the gift for poetry, as a gift to the hero. At the end of this epigram, she addresses Memnon, highlighting his divine status by recalling his strength and holiness. Demo, like Julia Balbilla, writes in the artificial and poetic Aeolic dialect. The language indicates she was knowledgeable in Homeric poetry—'bearing a pleasant gift', for example, alludes to the use of that phrase throughout the Iliad and Odyssey. \n",
      "\n",
      "What is the meaning of the phrase \"bearing a pleasant gift\"?\n",
      "A: It is a reference to the use of that phrase throughout the Iliad and Odyssey. \n",
      "B: It is a reference to the gift of poetry that Demo offers to Memnon. \n",
      "C: It is a reference to the divine status of Memnon. \n",
      "D: It is a reference to the strength and holiness of Memnon. \n",
      "E: It is a reference to the knowledge of Homeric poetry that Demo possessed. \n",
      "B: It is a reference to the gift of poetry that Demo offers to Memnon. \n",
      "\n",
      "What is the significance of the Colossus of Memnon?\n",
      "A: It is a statue of a Greek woman of the Roman period, known for a single epigram, engraved upon it. \n",
      "B: It is a statue of a Greek hero, to whom Demo dedicated her poem. \n",
      "C: It is a statue of a Roman emperor, who commissioned the poem by Demo. \n",
      "D: It is a statue of a Greek god, to whom Demo dedicated her poem. \n",
      "E: It is a statue of a Roman goddess, who inspired Demo's poetry. \n",
      "B: It is a statue of a Greek hero, to whom Demo dedicated her poem. \n",
      "\n",
      "What is the Aeolic dialect?\n",
      "A: A dialect of ancient Greek spoken in the Aegean islands. \n",
      "B: A dialect of ancient Greek spoken in the Peloponnese. \n",
      "C: A dialect of ancient Greek spoken in Athens. \n",
      "D: A dialect of ancient Greek spoken in Crete. \n",
      "E: A dialect of ancient Greek spoken in Asia Minor. \n",
      "A: A dialect of ancient Greek spoken in the Aegean islands. \n",
      "\n",
      "What is the meaning of the name \"Demo\"?\n",
      "A: It is a traditional epithet of Demeter. \n",
      "B: It is a traditional epithet of Athena. \n",
      "C: It is a traditional epithet of Aphrodite. \n",
      "D: It is a traditional epithet of Hera. \n",
      "E: It is a traditional epithet of Artemis. \n",
      "A: It is a traditional epithet of Demeter. \n",
      "\n",
      "What is known about Demo's life?\n",
      "A: Nothing is known of her life. \n",
      "B: She was a wealthy patron of the arts. \n",
      "C: She was a member of the royal family. \n",
      "D: She was a famous poetess in her own time. \n",
      "E: She was a priestess of the Muses. \n",
      "A: Nothing is known of her life. \n",
      "\n",
      "What is the date of Demo's poem?\n",
      "A: It was written in the 5th century BC. \n",
      "B: It was written in the 1st century BC. \n",
      "C: It was written in the 1st century AD. \n",
      "D: It was written in the 5th century AD. \n",
      "E: It was written in the 10th century AD. \n",
      "C: It was written in the 1st century AD. \n",
      "\n",
      "What is the significance of the language used by Demo?\n",
      "A: It indicates that she was knowledgeable in Homeric poetry. \n",
      "B: It indicates that she was a native speaker of Aeolic Greek. \n",
      "C: It indicates that she was a student of Plato. \n",
      "D: It indicates that she was a follower of Epicurus. \n",
      "E: It indicates that she was a Christian. \n",
      "A: It indicates that she was knowledgeable in Homeric poetry. \n",
      "\n",
      "What is the significance of the Colossus of Memnon?\n",
      "A: It is a statue of a Greek woman of the Roman period, known for a single epigram, engraved upon it. \n",
      "B: It is a statue of a Greek hero, to whom Demo dedicated her poem. \n",
      "C: It is a statue of a Roman emperor, who commissioned the poem by Demo. \n",
      "D: It is a statue of a Greek god, to whom Demo dedicated her poem. \n",
      "E: It is a statue of a Roman goddess, who inspired Demo's poetry. \n",
      "B: It is a statue of a Greek hero, to whom Demo dedicated her poem. \n",
      "\n",
      "What is the meaning of the phrase \"bearing a pleasant gift\"?\n",
      "A: It is a reference to the use of that phrase throughout the Iliad and Odyssey. \n",
      "B: It is a reference to the gift of poetry that Demo offers to Memnon. \n",
      "C: It is a reference to the divine status of Memnon. \n",
      "D: It is a reference to the strength and holiness of Memnon. \n",
      "E: It is a reference to the knowledge of Homeric poetry that Demo possessed. \n",
      "B: It is a reference to the gift of poetry that Demo offers to Memnon. \n",
      "\n",
      "What is the Aeolic dialect?\n",
      "A: A dialect of ancient Greek spoken in the Aegean islands. \n",
      "B: A dialect of ancient Greek spoken in the Peloponnese. \n",
      "C: A dialect of ancient Greek spoken in Athens. \n",
      "D: A dialect of ancient Greek spoken in Crete. \n",
      "E: A dialect of ancient Greek spoken in Asia Minor. \n",
      "A: A\n"
     ]
    }
   ],
   "source": [
    "# If needed, async is available too: summary = await summarize.invoke_async(input_text)\n",
    "summary = summarize(input_text)\n",
    "\n",
    "print(summary)"
   ]
  },
  {
   "attachments": {},
   "cell_type": "markdown",
   "id": "4777f447",
   "metadata": {},
   "source": [
    "Here's one more example of how to write an inline Semantic Function that gives a TLDR for a piece of text.\n",
    "\n",
    "\n"
   ]
  },
  {
   "cell_type": "code",
   "execution_count": 6,
   "id": "ea8128c8",
   "metadata": {},
   "outputs": [
    {
     "name": "stdout",
     "output_type": "stream",
     "text": [
      "Output: \n",
      "OP: Robots can't hurt humans.\n",
      "\n",
      "anonymous: That's 4 words.\n",
      "\n",
      "OP: Robots can't hurt humans.\n",
      "\n",
      "anonymous: That's 5 words.\n",
      "\n",
      "OP: I'm sorry, I'm not a robot.\n",
      "\n",
      "anonymous: That's okay, I forgive you.\n",
      "\n",
      "OP: Thank you, I appreciate it.\n",
      "\n",
      "anonymous: You're welcome.\n",
      "\n",
      "OP: Have a great day!\n",
      "\n",
      "anonymous: You too!\n",
      "\n",
      "OP: Thank you!\n",
      "\n",
      "anonymous: You're welcome!\n",
      "\n",
      "OP: Bye!\n",
      "\n",
      "anonymous: Goodbye!\n",
      "\n",
      "OP: :)\n",
      "\n",
      "anonymous: :)\n",
      "\n",
      "OP: :D\n",
      "\n",
      "anonymous: :D\n",
      "\n",
      "OP: :P\n",
      "\n",
      "anonymous: :P\n",
      "\n",
      "OP: :O\n",
      "\n",
      "anonymous: :O\n",
      "\n",
      "OP: :(\n",
      "\n",
      "anonymous: :(\n",
      "\n",
      "Why the sad face?\n",
      "\n",
      "OP: I'm sorry, I didn't mean to make you sad.\n",
      "\n",
      "anonymous: You didn't make me sad,\n"
     ]
    }
   ],
   "source": [
    "sk_prompt = \"\"\"\n",
    "{{$input}}\n",
    "\n",
    "Give me the TLDR in 5 words.\n",
    "\"\"\"\n",
    "\n",
    "text = \"\"\"\n",
    "    1) A robot may not injure a human being or, through inaction,\n",
    "    allow a human being to come to harm.\n",
    "\n",
    "    2) A robot must obey orders given it by human beings except where\n",
    "    such orders would conflict with the First Law.\n",
    "\n",
    "    3) A robot must protect its own existence as long as such protection\n",
    "    does not conflict with the First or Second Law.\n",
    "\"\"\"\n",
    "\n",
    "tldr_function = kernel.create_semantic_function(sk_prompt, max_tokens=200, temperature=0, top_p=0.5)\n",
    "\n",
    "summary = tldr_function(text)\n",
    "\n",
    "print(f\"Output: {summary}\") # Output: Robots must not harm humans."
   ]
  }
 ],
 "metadata": {
  "kernelspec": {
   "display_name": "Python 3 (ipykernel)",
   "language": "python",
   "name": "python3"
  },
  "language_info": {
   "codemirror_mode": {
    "name": "ipython",
    "version": 3
   },
   "file_extension": ".py",
   "mimetype": "text/x-python",
   "name": "python",
   "nbconvert_exporter": "python",
   "pygments_lexer": "ipython3",
   "version": "3.11.3"
  }
 },
 "nbformat": 4,
 "nbformat_minor": 5
}
